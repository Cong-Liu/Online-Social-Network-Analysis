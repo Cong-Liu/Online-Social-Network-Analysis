{
 "cells": [
  {
   "cell_type": "markdown",
   "metadata": {},
   "source": [
    "\n",
    "### sumarize.py\n",
    "\n",
    "summarize.py: This should read the output of the previous methods to write a textfile called summary.txt containing the following entries:\n",
    "  - Number of users collected: // read 'users.txt', length\n",
    "  - Number of messages collected: // read 'num_tweets.txt', sum\n",
    "  - Number of communities discovered: // read 'clusters.txt' len\n",
    "  - Average number of users per community: // read 'clusters.txt' calc avg\n",
    "  - Number of instances per class found: // read 'class.txt' split by '\\'\n",
    "  - One example from each class: // per class: <classname>\\t<number>\\t<example>\\n\n",
    "\n",
    "\n"
   ]
  },
  {
   "cell_type": "code",
   "execution_count": 46,
   "metadata": {
    "collapsed": true
   },
   "outputs": [],
   "source": [
    "def read_file(filename):\n",
    "    o = open(filename)\n",
    "    f = o.read()\n",
    "    files = f.split('\\n')\n",
    "    return list(filter(None, files))"
   ]
  },
  {
   "cell_type": "code",
   "execution_count": 47,
   "metadata": {
    "collapsed": false,
    "scrolled": false
   },
   "outputs": [],
   "source": [
    "def get_users():\n",
    "    users = read_file('users.txt')\n",
    "    return (len(users))\n",
    "\n",
    "def get_tweets():\n",
    "    nums = read_file('num_tweets.txt')\n",
    "    return sum(int(n) for n in nums)       \n",
    "\n",
    "def get_class():\n",
    "    result = []\n",
    "    cls = read_file('class.txt')\n",
    "#     print(cls[0].split('\\t'))\n",
    "    for c in cls:\n",
    "#         print (c)\n",
    "        result.append(c.split('\\t'))\n",
    "    return result\n"
   ]
  },
  {
   "cell_type": "code",
   "execution_count": 48,
   "metadata": {
    "collapsed": false
   },
   "outputs": [],
   "source": [
    "def get_clusters():\n",
    "    clus = read_file('clusters.txt')\n",
    "    l = [int(c) for c in clus]\n",
    "    num_clu = len(l)\n",
    "    avg = sum(l) / len(l)\n",
    "    return (num_clu, avg)\n"
   ]
  },
  {
   "cell_type": "code",
   "execution_count": 54,
   "metadata": {
    "collapsed": false
   },
   "outputs": [],
   "source": [
    "def main():\n",
    "    fw = open('summary.txt', 'w')\n",
    "    users = get_users()  \n",
    "    print('\\nNumber of users collected: %d' % users, file = fw)\n",
    "    tsum = get_tweets()\n",
    "    print('\\nNumber of messages collected: %d' % tsum, file = fw)\n",
    "    num_clu, avg = get_clusters()\n",
    "    print('\\nNumber of communities discovered: %d' %num_clu, file = fw)\n",
    "    print('\\nAverage number of users per community: %d' % avg, file = fw)\n",
    "    print ('\\nNumber of instances per class found:', file = fw)\n",
    "    cl = get_class()\n",
    "    for c in cl:\n",
    "        print('%s, %s'%(c[0],c[1]), file = fw)\n",
    "        \n",
    "    print('\\nOne example from each class: \\n',file = fw)\n",
    "    for c in cl:\n",
    "        print('%s:\\n%s\\n'%(c[1],c[2]), file = fw)   \n",
    "    \n",
    "    \n",
    "if __name__ == '__main__':\n",
    "    main()"
   ]
  },
  {
   "cell_type": "code",
   "execution_count": null,
   "metadata": {
    "collapsed": true
   },
   "outputs": [],
   "source": []
  }
 ],
 "metadata": {
  "kernelspec": {
   "display_name": "Python 3",
   "language": "python",
   "name": "python3"
  },
  "language_info": {
   "codemirror_mode": {
    "name": "ipython",
    "version": 3
   },
   "file_extension": ".py",
   "mimetype": "text/x-python",
   "name": "python",
   "nbconvert_exporter": "python",
   "pygments_lexer": "ipython3",
   "version": "3.5.2"
  }
 },
 "nbformat": 4,
 "nbformat_minor": 1
}
